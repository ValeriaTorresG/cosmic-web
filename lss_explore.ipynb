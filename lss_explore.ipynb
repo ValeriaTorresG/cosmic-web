{
 "cells": [
  {
   "cell_type": "code",
   "execution_count": null,
   "id": "f38f20ee",
   "metadata": {},
   "outputs": [],
   "source": [
    "import os\n",
    "import urllib.request\n",
    "from urllib.parse import urljoin\n",
    "from bs4 import BeautifulSoup\n",
    "\n",
    "import numpy as np\n",
    "from astropy.io import fits\n",
    "from astropy.table import Table as t, vstack\n",
    "\n",
    "import seaborn as sns\n",
    "import matplotlib.pyplot as plt\n",
    "import matplotlib\n",
    "from matplotlib.ticker import MaxNLocator, AutoMinorLocator\n",
    "matplotlib.rcParams['figure.dpi'] = 360\n",
    "matplotlib.rcParams['text.usetex'] = True\n",
    "os.environ['PATH'] = '/Library/TeX/texbin:' + os.environ['PATH']\n",
    "cmap = sns.color_palette('mako', 10)"
   ]
  },
  {
   "cell_type": "code",
   "execution_count": null,
   "id": "967ab8ca",
   "metadata": {},
   "outputs": [],
   "source": [
    "BASE_URL = 'https://data.desi.lbl.gov/public/edr/vac/edr/lss/v2.0/LSScats/clustering/'\n",
    "\n",
    "OUT_DIR = './data/edr/vac/edr/lss/v2.0/LSScats/clustering/'\n",
    "os.makedirs(OUT_DIR, exist_ok=True)"
   ]
  },
  {
   "cell_type": "code",
   "execution_count": null,
   "id": "9016e2a9",
   "metadata": {},
   "outputs": [],
   "source": [
    "def list_links(url):\n",
    "    resp = urllib.request.urlopen(url)\n",
    "    soup = BeautifulSoup(resp, 'html.parser')\n",
    "    return [a['href'] for a in soup.find_all('a', href=True)\n",
    "            if not a['href'].startswith('?') and a['href'] != '../']"
   ]
  },
  {
   "cell_type": "code",
   "execution_count": null,
   "id": "84b52043",
   "metadata": {},
   "outputs": [],
   "source": [
    "files = list_links(BASE_URL)\n",
    "elg = [fn for fn in files if ('ELG_N_' in fn) or ('ELG_S_' in fn)]\n",
    "len(elg)"
   ]
  },
  {
   "cell_type": "code",
   "execution_count": null,
   "id": "c86ca3f4",
   "metadata": {},
   "outputs": [],
   "source": [
    "for file in elg:\n",
    "    url = urljoin(BASE_URL, file)\n",
    "    out_file = os.path.join(OUT_DIR, file)\n",
    "    if not os.path.exists(out_file):\n",
    "        try:\n",
    "            urllib.request.urlretrieve(url, out_file)\n",
    "        except Exception as e:\n",
    "            print(f'{url}: {e}')"
   ]
  },
  {
   "cell_type": "code",
   "execution_count": null,
   "id": "f5fc8d5a",
   "metadata": {},
   "outputs": [],
   "source": [
    "files_elg = [os.path.join(OUT_DIR, fn) for fn in elg]\n",
    "\n",
    "data = [fn for fn in files_elg if '.dat' in fn]\n",
    "ran_n = [fn for fn in files_elg if ('ELG_N_' in fn) and ('ran' in fn)]\n",
    "ran_s = [fn for fn in files_elg if ('ELG_S_' in fn) and ('ran' in fn)]\n",
    "\n",
    "f_n, f_s = fits.open(data[0]), fits.open(data[1])\n",
    "data"
   ]
  },
  {
   "cell_type": "markdown",
   "id": "7a8c5a53",
   "metadata": {},
   "source": [
    "### North"
   ]
  },
  {
   "cell_type": "code",
   "execution_count": null,
   "id": "f79329db",
   "metadata": {},
   "outputs": [],
   "source": [
    "table_n = t(f_n['LSS'].data)\n",
    "table_n[:5]"
   ]
  },
  {
   "cell_type": "code",
   "execution_count": null,
   "id": "111705bc",
   "metadata": {},
   "outputs": [],
   "source": [
    "fig, ax = plt.subplots()\n",
    "ax.grid(linewidth=0.2, zorder=0)\n",
    "\n",
    "for i, rn in enumerate(np.unique(table_n['ROSETTE_NUMBER'])):\n",
    "    data_r = table_n[table_n['ROSETTE_NUMBER'] == rn]\n",
    "    ra, dec = data_r['RA'], data_r['DEC']\n",
    "    ax.scatter(ra, dec, s=0.1, color=cmap[i], label=f'Rosette {rn}')\n",
    "\n",
    "ax.legend(loc='lower left', markerscale=12)\n",
    "ax.set_xlabel(r'RA [deg]'); ax.set_ylabel(r'DEC [deg]')\n",
    "\n",
    "plt.tight_layout()\n",
    "plt.show()"
   ]
  },
  {
   "cell_type": "code",
   "execution_count": null,
   "id": "94c2d736",
   "metadata": {},
   "outputs": [],
   "source": [
    "for i, rn in enumerate(np.unique(table_n['ROSETTE_NUMBER'])):\n",
    "    fig, ax = plt.subplots()\n",
    "    data_r = table_n[table_n['ROSETTE_NUMBER'] == rn]\n",
    "    ra, dec = data_r['RA'], data_r['DEC']\n",
    "\n",
    "    ax.grid(linewidth=0.2, zorder=0)\n",
    "    ax.scatter(ra, dec, s=2, color=cmap[i])\n",
    "    ax.set_xlabel('RA [deg]')\n",
    "    ax.set_ylabel('DEC [deg]')\n",
    "    ax.set_title(f'Rosette {rn}', y=1.02)\n",
    "\n",
    "    ax.set_box_aspect(1)\n",
    "    plt.tight_layout()\n",
    "    plt.show()"
   ]
  },
  {
   "cell_type": "code",
   "execution_count": null,
   "id": "4e35d0cd",
   "metadata": {},
   "outputs": [],
   "source": [
    "fig, axes = plt.subplots(2, 5, sharey=True, figsize=(12, 5))\n",
    "\n",
    "for i, rn in enumerate(np.unique(table_n['ROSETTE_NUMBER'])):\n",
    "    data_r = table_n[table_n['ROSETTE_NUMBER'] == rn]\n",
    "    ax = axes[i//5, i%5]\n",
    "    ax.grid(linewidth=0.2, zorder=0)\n",
    "    ax.hist(data_r['Z'], bins=30, color=[cmap[i]], edgecolor='black', alpha=0.8,\n",
    "            zorder=10, label=f'Rosette {rn}')\n",
    "    ax.legend(loc='upper right', fontsize=8)\n",
    "\n",
    "    if (i//5==1):\n",
    "        ax.set_xlabel('$Z$')\n",
    "    ax.xaxis.set_major_locator(MaxNLocator(nbins=6, prune='both'))\n",
    "    ax.yaxis.set_major_locator(MaxNLocator(nbins=5, prune='both'))\n",
    "\n",
    "    ax.xaxis.set_minor_locator(AutoMinorLocator(2))\n",
    "    ax.yaxis.set_minor_locator(AutoMinorLocator(2))\n",
    "\n",
    "    ax.tick_params(which='major', length=6, width=1)\n",
    "    ax.tick_params(which='minor', length=3, width=0.5)\n",
    "\n",
    "axes[0,0].set_ylabel('Counts'); axes[1,0].set_ylabel('Counts')\n",
    "plt.tight_layout()\n",
    "plt.show()"
   ]
  },
  {
   "cell_type": "code",
   "execution_count": null,
   "id": "3625772d",
   "metadata": {},
   "outputs": [],
   "source": [
    "cuts_n = [(0.93,0.96), (0.96,1.0), (0.83,0.9), (0.86,0.9), (0.96,1.0),\n",
    "        (0.86,0.9), (0.83,0.86), (0.96,1.0), (0.86,0.9), (0.93,0.96)]"
   ]
  },
  {
   "cell_type": "code",
   "execution_count": null,
   "id": "992a988e",
   "metadata": {},
   "outputs": [],
   "source": [
    "for i, rn in enumerate(np.unique(table_n['ROSETTE_NUMBER'])):\n",
    "    fig, ax = plt.subplots()\n",
    "    mask = (table_n['ROSETTE_NUMBER'] == rn) & (table_n['Z'] > cuts_n[i][0]) & (table_n['Z'] < cuts_n[i][1])\n",
    "    data_r = table_n[mask]\n",
    "    ra, dec = data_r['RA'], data_r['DEC']\n",
    "\n",
    "    ax.grid(linewidth=0.2, zorder=0)\n",
    "    ax.scatter(ra, dec, s=2, color=cmap[i])\n",
    "\n",
    "    ax.set_xlabel('RA [deg]')\n",
    "    ax.set_ylabel('DEC [deg]')\n",
    "    ax.set_title(f'Rosette {rn}', y=1.02)\n",
    "\n",
    "    ax.set_box_aspect(1)\n",
    "    plt.tight_layout()\n",
    "    plt.show()"
   ]
  },
  {
   "cell_type": "code",
   "execution_count": null,
   "id": "8e09140e",
   "metadata": {},
   "outputs": [],
   "source": [
    "tables_n = []\n",
    "for i in range(len(ran_n)):\n",
    "    tab = t.read(f'./data/edr/vac/edr/lss/v2.0/LSScats/clustering/ELG_N_{i}_clustering.ran.fits', hdu='LSS')\n",
    "    tables_n.append(tab)\n",
    "\n",
    "combined_n = vstack(tables_n)"
   ]
  },
  {
   "cell_type": "code",
   "execution_count": null,
   "id": "cc3e5320",
   "metadata": {},
   "outputs": [],
   "source": [
    "for i, rn in enumerate(np.unique(table_n['ROSETTE_NUMBER'])):\n",
    "    fig, ax = plt.subplots()\n",
    "    mask = (table_n['ROSETTE_NUMBER'] == rn) & (table_n['Z'] > cuts_n[i][0]) & (table_n['Z'] < cuts_n[i][1])\n",
    "    data_d = table_n[mask]\n",
    "\n",
    "    mask = (combined_n['ROSETTE_NUMBER'] == rn) & (combined_n['Z'] > cuts_n[i][0]) & (combined_n['Z'] < cuts_n[i][1])\n",
    "    data_r = combined_n[mask]\n",
    "\n",
    "    ax.grid(linewidth=0.2, zorder=0)\n",
    "    ax.scatter(data_r['RA'], data_r['DEC'], s=0.1, color='b', label='Random')\n",
    "    ax.scatter(data_d['RA'], data_d['DEC'], s=0.4, color='r', label='Data')\n",
    "\n",
    "    ax.set_xlabel('RA [deg]')\n",
    "    ax.set_ylabel('DEC [deg]')\n",
    "    ax.set_title(f'Rosette {rn}', y=1.02)\n",
    "\n",
    "    ax.legend(loc='upper right')\n",
    "    ax.set_box_aspect(1)\n",
    "    plt.tight_layout()\n",
    "    plt.show()"
   ]
  },
  {
   "cell_type": "markdown",
   "id": "734c1ab3",
   "metadata": {},
   "source": [
    "### South"
   ]
  },
  {
   "cell_type": "code",
   "execution_count": null,
   "id": "8c11d088",
   "metadata": {},
   "outputs": [],
   "source": [
    "table_s = t(f_s['LSS'].data)"
   ]
  },
  {
   "cell_type": "code",
   "execution_count": null,
   "id": "5e470e2d",
   "metadata": {},
   "outputs": [],
   "source": [
    "fig, ax = plt.subplots()\n",
    "ax.grid(linewidth=0.2, zorder=0)\n",
    "\n",
    "for i, rn in enumerate(np.unique(table_s['ROSETTE_NUMBER'])):\n",
    "    data_r = table_s[table_s['ROSETTE_NUMBER'] == rn]\n",
    "    ra, dec = data_r['RA'], data_r['DEC']\n",
    "    ax.scatter(ra, dec, s=0.1, color=cmap[i], label=f'Rosette {rn}')\n",
    "\n",
    "ax.legend(loc='upper left', markerscale=12)\n",
    "ax.set_xlabel(r'RA [deg]'); ax.set_ylabel(r'DEC [deg]')\n",
    "\n",
    "plt.tight_layout()\n",
    "plt.show()"
   ]
  },
  {
   "cell_type": "code",
   "execution_count": null,
   "id": "41764dc3",
   "metadata": {},
   "outputs": [],
   "source": [
    "for i, rn in enumerate(np.unique(table_s['ROSETTE_NUMBER'])):\n",
    "    fig, ax = plt.subplots()\n",
    "    data_r = table_s[table_s['ROSETTE_NUMBER'] == rn]\n",
    "    ra, dec = data_r['RA'], data_r['DEC']\n",
    "\n",
    "    ax.grid(linewidth=0.2, zorder=0)\n",
    "    ax.scatter(ra, dec, s=2, color=cmap[i])\n",
    "    ax.set_xlabel('RA [deg]')\n",
    "    ax.set_ylabel('DEC [deg]')\n",
    "    ax.set_title(f'Rosette {rn}', y=1.02)\n",
    "\n",
    "    ax.set_box_aspect(1)\n",
    "    plt.tight_layout()\n",
    "    plt.show()"
   ]
  },
  {
   "cell_type": "code",
   "execution_count": null,
   "id": "e5d6bf26",
   "metadata": {},
   "outputs": [],
   "source": [
    "fig, axes = plt.subplots(2, 5, sharey=True, figsize=(12, 5))\n",
    "\n",
    "for i, rn in enumerate(np.unique(table_s['ROSETTE_NUMBER'])):\n",
    "    data_r = table_s[table_s['ROSETTE_NUMBER'] == rn]\n",
    "    ax = axes[i//5, i%5]\n",
    "    ax.grid(linewidth=0.2, zorder=0)\n",
    "    ax.hist(data_r['Z'], bins=30, color=[cmap[i]], edgecolor='black', alpha=0.8,\n",
    "            zorder=10, label=f'Rosette {rn}')\n",
    "    ax.legend(loc='upper right', fontsize=8)\n",
    "\n",
    "    if (i//5==1):\n",
    "        ax.set_xlabel('$Z$')\n",
    "    ax.xaxis.set_major_locator(MaxNLocator(nbins=6, prune='both'))\n",
    "    ax.yaxis.set_major_locator(MaxNLocator(nbins=5, prune='both'))\n",
    "\n",
    "    ax.xaxis.set_minor_locator(AutoMinorLocator(2))\n",
    "    ax.yaxis.set_minor_locator(AutoMinorLocator(2))\n",
    "\n",
    "    ax.tick_params(which='major', length=6, width=1)\n",
    "    ax.tick_params(which='minor', length=3, width=0.5)\n",
    "\n",
    "axes[0,0].set_ylabel('Counts'); axes[1,0].set_ylabel('Counts')\n",
    "plt.tight_layout()\n",
    "plt.show()"
   ]
  },
  {
   "cell_type": "code",
   "execution_count": null,
   "id": "99b3683e",
   "metadata": {},
   "outputs": [],
   "source": [
    "cuts_s = [(0.93,0.96), (0.93,0.96), (0.93,0.96), (0.96,1.0), (0.9,0.93),\n",
    "        (0.83,0.86), (0.86,0.9), (0.96,1.0), (0.96,1.0), (0.83,0.86)]"
   ]
  },
  {
   "cell_type": "code",
   "execution_count": null,
   "id": "11f6e0a3",
   "metadata": {},
   "outputs": [],
   "source": [
    "for i, rn in enumerate(np.unique(table_s['ROSETTE_NUMBER'])):\n",
    "    fig, ax = plt.subplots()\n",
    "    mask = (table_s['ROSETTE_NUMBER'] == rn) & (table_s['Z'] > cuts_s[i][0]) & (table_s['Z'] < cuts_s[i][1])\n",
    "    data_r = table_s[mask]\n",
    "    ra, dec = data_r['RA'], data_r['DEC']\n",
    "\n",
    "    ax.grid(linewidth=0.2, zorder=0)\n",
    "    ax.scatter(ra, dec, s=2, color=cmap[i])\n",
    "\n",
    "    ax.set_xlabel('RA [deg]')\n",
    "    ax.set_ylabel('DEC [deg]')\n",
    "    ax.set_title(f'Rosette {rn}', y=1.02)\n",
    "\n",
    "    ax.set_box_aspect(1)\n",
    "    plt.tight_layout()\n",
    "    plt.show()"
   ]
  },
  {
   "cell_type": "code",
   "execution_count": null,
   "id": "eb301ea6",
   "metadata": {},
   "outputs": [],
   "source": [
    "tables_s = []\n",
    "for i in range(len(ran_n)):\n",
    "    tab = t.read(f'./data/edr/vac/edr/lss/v2.0/LSScats/clustering/ELG_S_{i}_clustering.ran.fits', hdu='LSS')\n",
    "    tables_s.append(tab)\n",
    "\n",
    "combined_s = vstack(tables_s)"
   ]
  },
  {
   "cell_type": "code",
   "execution_count": null,
   "id": "0744492c",
   "metadata": {},
   "outputs": [],
   "source": [
    "for i, rn in enumerate(np.unique(table_s['ROSETTE_NUMBER'])):\n",
    "    fig, ax = plt.subplots()\n",
    "    mask = (table_s['ROSETTE_NUMBER'] == rn) & (table_s['Z'] > cuts_s[i][0]) & (table_s['Z'] < cuts_s[i][1])\n",
    "    data_d = table_s[mask]\n",
    "\n",
    "    mask = (combined_s['ROSETTE_NUMBER'] == rn) & (combined_s['Z'] > cuts_s[i][0]) & (combined_s['Z'] < cuts_s[i][1])\n",
    "    data_r = combined_s[mask]\n",
    "\n",
    "    ax.grid(linewidth=0.2, zorder=0)\n",
    "    ax.scatter(data_r['RA'], data_r['DEC'], s=0.1, color='b', label='Random')\n",
    "    ax.scatter(data_d['RA'], data_d['DEC'], s=0.4, color='r', label='Data')\n",
    "\n",
    "    ax.set_xlabel('RA [deg]')\n",
    "    ax.set_ylabel('DEC [deg]')\n",
    "    ax.set_title(f'Rosette {rn}', y=1.02)\n",
    "\n",
    "    ax.legend(loc='upper right')\n",
    "    ax.set_box_aspect(1)\n",
    "    plt.tight_layout()\n",
    "    plt.show()"
   ]
  }
 ],
 "metadata": {
  "kernelspec": {
   "display_name": "Python 3",
   "language": "python",
   "name": "python3"
  },
  "language_info": {
   "codemirror_mode": {
    "name": "ipython",
    "version": 3
   },
   "file_extension": ".py",
   "mimetype": "text/x-python",
   "name": "python",
   "nbconvert_exporter": "python",
   "pygments_lexer": "ipython3",
   "version": "3.12.2"
  }
 },
 "nbformat": 4,
 "nbformat_minor": 5
}
